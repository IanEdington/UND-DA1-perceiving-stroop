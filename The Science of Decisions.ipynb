{
 "cells": [
  {
   "cell_type": "markdown",
   "metadata": {},
   "source": [
    "##Background Information\n",
    "\n",
    "In a Stroop task, participants are presented with a list of words, with each word displayed in a color of ink. The participant’s task is to say out loud the color of the ink in which the word is printed. The task has two conditions: a congruent words condition, and an incongruent words condition. In the congruent words condition, the words being displayed are color words whose names match the colors in which they are printed: for example RED, BLUE. In the incongruent words condition, the words displayed are color words whose names do not match the colors in which they are printed: for example PURPLE, ORANGE. In each case, we measure the time it takes to name the ink colors in equally-sized lists. Each participant will go through and record a time from each condition.\n",
    "Questions For Investigation\n",
    "\n",
    "###References:\n",
    "Statistical References:\n",
    ">    https://en.wikipedia.org/wiki/Student%27s_t-test\n",
    ">    https://en.wikipedia.org/wiki/Student%27s_t-test#Paired_samples\n",
    ">    https://en.wikipedia.org/wiki/Student%27s_t-test#Dependent_t-test_for_paired_samples\n",
    ">    https://en.wikipedia.org/wiki/Stroop_effect#Theories\n",
    "\n",
    "Programing References:\n",
    ">    http://stackoverflow.com/questions/19410042/how-to-make-ipython-notebook-inline-matplotlib-graphics\n",
    "    http://pandas.pydata.org/pandas-docs/stable/generated/pandas.DataFrame.describe.html\n",
    "    http://pandas.pydata.org/pandas-docs/stable/generated/pandas.DataFrame.hist.html\n",
    "    http://matplotlib.org/api/pyplot_api.html\n",
    "    http://docs.scipy.org/doc/scipy-0.15.1/reference/generated/scipy.stats.probplot.html\n",
    "    http://docs.scipy.org/doc/scipy-0.15.1/reference/generated/scipy.stats.ttest_1samp.html\n"
   ]
  },
  {
   "cell_type": "markdown",
   "metadata": {},
   "source": [
    "###1. What is our independent variable? What is our dependent variable?\n",
    "\n",
    "The independent variable is whether or not the words are congruent.\n",
    "The dependent variable is the time it takes to name the ink colors.\n"
   ]
  },
  {
   "cell_type": "markdown",
   "metadata": {},
   "source": [
    "###2. What is an appropriate set of hypotheses for this task?\n",
    "The null hypothesis is that the difference between each subject's congruent (µ<sub>1</sub>) and incongruent (µ<sub>2</sub>) tests will not be significant.\n",
    "$$ µ_{∆} = µ_{2} - µ_{1} $$\n",
    "$$ H_{0}: µ_{∆} = 0 $$\n",
    "The alternative hypothesis is that the difference between each subject's congruent and incongruent tests will be significant.\n",
    "$$ H_{A}: µ_{∆} \\neq 0 $$\n",
    "####What kind of statistical test do you expect to perform? Justify your choices.\n",
    "I expect to perform the dependent t-test for paired samples since the two samples are paired. The samples are paired since each subject does both tests, which means we know the difference in each subjects scores.\n",
    "In order to use this test the data needs to be normally distributed.\n",
    "\n",
    "ref: https://en.wikipedia.org/wiki/Student%27s_t-test#Paired_samples\n",
    "     https://en.wikipedia.org/wiki/Student%27s_t-test#Dependent_t-test_for_paired_samples"
   ]
  },
  {
   "cell_type": "markdown",
   "metadata": {},
   "source": [
    "###Personal Stroop times\n",
    "Now it’s your chance to try out the Stroop task for yourself. Go to this link, which has a Java-based applet for performing the Stroop task. Record the times that you received on the task (you do not need to submit your times to the site.) Now, download this dataset which contains results from a number of participants in the task. Each row of the dataset contains the performance for one participant, with the first number their results on the congruent task and the second number their performance on the incongruent task.\n",
    "\n",
    "####Personal Results\n",
    "    Congruent: 13.847\n",
    "    Incongruent: 30.938"
   ]
  },
  {
   "cell_type": "markdown",
   "metadata": {},
   "source": [
    "###3. Report some descriptive statistics regarding this dataset. Include at least one measure of central tendency and at least one measure of variability."
   ]
  },
  {
   "cell_type": "code",
   "execution_count": 1,
   "metadata": {
    "collapsed": false
   },
   "outputs": [
    {
     "data": {
      "text/html": [
       "<div>\n",
       "<table border=\"1\" class=\"dataframe\">\n",
       "  <thead>\n",
       "    <tr style=\"text-align: right;\">\n",
       "      <th></th>\n",
       "      <th>Congruent</th>\n",
       "      <th>Incongruent</th>\n",
       "      <th>delta</th>\n",
       "    </tr>\n",
       "  </thead>\n",
       "  <tbody>\n",
       "    <tr>\n",
       "      <th>0</th>\n",
       "      <td>12.079</td>\n",
       "      <td>19.278</td>\n",
       "      <td>7.199</td>\n",
       "    </tr>\n",
       "    <tr>\n",
       "      <th>1</th>\n",
       "      <td>16.791</td>\n",
       "      <td>18.741</td>\n",
       "      <td>1.950</td>\n",
       "    </tr>\n",
       "    <tr>\n",
       "      <th>2</th>\n",
       "      <td>9.564</td>\n",
       "      <td>21.214</td>\n",
       "      <td>11.650</td>\n",
       "    </tr>\n",
       "  </tbody>\n",
       "</table>\n",
       "</div>"
      ],
      "text/plain": [
       "   Congruent  Incongruent   delta\n",
       "0     12.079       19.278   7.199\n",
       "1     16.791       18.741   1.950\n",
       "2      9.564       21.214  11.650"
      ]
     },
     "execution_count": 1,
     "metadata": {},
     "output_type": "execute_result"
    }
   ],
   "source": [
    "# http://stackoverflow.com/questions/19410042/how-to-make-ipython-notebook-inline-matplotlib-graphics\n",
    "%matplotlib inline\n",
    "\n",
    "import pandas as pd\n",
    "import numpy as np\n",
    "import matplotlib.pyplot as plt\n",
    "from scipy.stats import probplot, ttest_1samp\n",
    "\n",
    "np.set_printoptions(suppress=True)\n",
    "\n",
    "data = pd.read_csv('congruent-vs-incongruent.csv')\n",
    "data['delta'] = data['Incongruent'] - data['Congruent']\n",
    "congru = data['Congruent']\n",
    "incon = data['Incongruent']\n",
    "delta = data['delta']\n",
    "data.head(3)"
   ]
  },
  {
   "cell_type": "code",
   "execution_count": 2,
   "metadata": {
    "collapsed": false
   },
   "outputs": [
    {
     "data": {
      "text/html": [
       "<div>\n",
       "<table border=\"1\" class=\"dataframe\">\n",
       "  <thead>\n",
       "    <tr style=\"text-align: right;\">\n",
       "      <th></th>\n",
       "      <th>Congruent</th>\n",
       "      <th>Incongruent</th>\n",
       "      <th>delta</th>\n",
       "    </tr>\n",
       "  </thead>\n",
       "  <tbody>\n",
       "    <tr>\n",
       "      <th>count</th>\n",
       "      <td>24.000000</td>\n",
       "      <td>24.000000</td>\n",
       "      <td>24.000000</td>\n",
       "    </tr>\n",
       "    <tr>\n",
       "      <th>mean</th>\n",
       "      <td>14.051125</td>\n",
       "      <td>22.015917</td>\n",
       "      <td>7.964792</td>\n",
       "    </tr>\n",
       "    <tr>\n",
       "      <th>std</th>\n",
       "      <td>3.559358</td>\n",
       "      <td>4.797057</td>\n",
       "      <td>4.864827</td>\n",
       "    </tr>\n",
       "    <tr>\n",
       "      <th>min</th>\n",
       "      <td>8.630000</td>\n",
       "      <td>15.687000</td>\n",
       "      <td>1.950000</td>\n",
       "    </tr>\n",
       "    <tr>\n",
       "      <th>25%</th>\n",
       "      <td>11.895250</td>\n",
       "      <td>18.716750</td>\n",
       "      <td>3.645500</td>\n",
       "    </tr>\n",
       "    <tr>\n",
       "      <th>50%</th>\n",
       "      <td>14.356500</td>\n",
       "      <td>21.017500</td>\n",
       "      <td>7.666500</td>\n",
       "    </tr>\n",
       "    <tr>\n",
       "      <th>75%</th>\n",
       "      <td>16.200750</td>\n",
       "      <td>24.051500</td>\n",
       "      <td>10.258500</td>\n",
       "    </tr>\n",
       "    <tr>\n",
       "      <th>max</th>\n",
       "      <td>22.328000</td>\n",
       "      <td>35.255000</td>\n",
       "      <td>21.919000</td>\n",
       "    </tr>\n",
       "  </tbody>\n",
       "</table>\n",
       "</div>"
      ],
      "text/plain": [
       "       Congruent  Incongruent      delta\n",
       "count  24.000000    24.000000  24.000000\n",
       "mean   14.051125    22.015917   7.964792\n",
       "std     3.559358     4.797057   4.864827\n",
       "min     8.630000    15.687000   1.950000\n",
       "25%    11.895250    18.716750   3.645500\n",
       "50%    14.356500    21.017500   7.666500\n",
       "75%    16.200750    24.051500  10.258500\n",
       "max    22.328000    35.255000  21.919000"
      ]
     },
     "execution_count": 2,
     "metadata": {},
     "output_type": "execute_result"
    }
   ],
   "source": [
    "# http://pandas.pydata.org/pandas-docs/stable/generated/pandas.DataFrame.describe.html\n",
    "\n",
    "data.describe() "
   ]
  },
  {
   "cell_type": "markdown",
   "metadata": {},
   "source": [
    "We can see that means are very close to two standard deviations apart. This is a good sign.\n",
    "Note that the std returned is Normalized using n-1.\n",
    "\n",
    "The median and mean are also relatively close for each sample, meaning there is a possiblity that they are normaly distributed."
   ]
  },
  {
   "cell_type": "markdown",
   "metadata": {},
   "source": [
    "###4. Provide one or two visualizations that show the distribution of the sample data. Write one or two sentences noting what you observe about the plot or plots."
   ]
  },
  {
   "cell_type": "code",
   "execution_count": 3,
   "metadata": {
    "collapsed": false
   },
   "outputs": [
    {
     "data": {
      "image/png": "[encoded data removed]",
      "text/plain": [
       "<matplotlib.figure.Figure at 0x1043dafd0>"
      ]
     },
     "metadata": {},
     "output_type": "display_data"
    },
    {
     "name": "stdout",
     "output_type": "stream",
     "text": [
      "note: green represents where the Congruent and Incongruent plots overlap\n"
     ]
    },
    {
     "data": {
      "image/png": "[encoded data removed]",
      "text/plain": [
       "<matplotlib.figure.Figure at 0x10845d9d0>"
      ]
     },
     "metadata": {},
     "output_type": "display_data"
    }
   ],
   "source": [
    "# http://pandas.pydata.org/pandas-docs/stable/generated/pandas.DataFrame.hist.html\n",
    "# http://matplotlib.org/api/pyplot_api.html\n",
    "\n",
    "plt.figure()\n",
    "congru.hist(color=(0, 0.8, 0.8, 0.5), bins=12, range=(0,40), label='Incongruent', stacked=False)\n",
    "incon.hist(color=(0.8, 0.8, 0, 0.5), bins=12, range=(0,40), label='Congruent', stacked=False)\n",
    "plt.ylim((0,10))\n",
    "plt.legend(prop={'size': 10})\n",
    "plt.xlabel('Stroop task time in seconds')\n",
    "plt.ylabel('Frequency of occurence')\n",
    "plt.title('Histogram of Stroop Task times')\n",
    "plt.show()\n",
    "plt.close()\n",
    "print('note: green represents where the Congruent and Incongruent plots overlap')\n",
    "\n",
    "plt.figure()\n",
    "delta.hist(color='red', bins=5, range=(0,25), label='Difference', stacked=False)\n",
    "plt.ylim((0,12))\n",
    "plt.legend(prop={'size': 10})\n",
    "plt.xlabel('Stroop task time in seconds')\n",
    "plt.ylabel('Frequency of occurence')\n",
    "plt.title('Histogram of the difference in Stroop Task times')\n",
    "plt.show()\n",
    "plt.close()\n"
   ]
  },
  {
   "cell_type": "code",
   "execution_count": 4,
   "metadata": {
    "collapsed": false
   },
   "outputs": [
    {
     "data": {
      "image/png": "[encoded data removed]",
      "text/plain": [
       "<matplotlib.figure.Figure at 0x1085fdf90>"
      ]
     },
     "metadata": {},
     "output_type": "display_data"
    },
    {
     "data": {
      "image/png": "[encoded data removed]",
      "text/plain": [
       "<matplotlib.figure.Figure at 0x10849a090>"
      ]
     },
     "metadata": {},
     "output_type": "display_data"
    }
   ],
   "source": [
    "# http://docs.scipy.org/doc/scipy-0.15.1/reference/generated/scipy.stats.probplot.html\n",
    "fig = plt.figure()\n",
    "ax1 = fig.add_subplot(121)\n",
    "ax2 = fig.add_subplot(122)\n",
    "\n",
    "array = probplot(congru, plot=ax1)\n",
    "array = probplot(incon, plot=ax2)\n",
    "\n",
    "fig.suptitle('Q-Q Plot of Normality', fontsize=14)\n",
    "fig.tight_layout()\n",
    "fig.subplots_adjust(top=0.87)\n",
    "ax1.set_title('Congruent')\n",
    "ax2.set_title('Incongruent')\n",
    "plt.show()\n",
    "plt.close()\n",
    "\n",
    "# plot of the difference\n",
    "plt.figure()\n",
    "array = probplot(delta, plot=plt)\n",
    "plt.title('Q-Q Plot of Normality for the difference', fontsize=14)\n",
    "plt.show()\n",
    "plt.close()"
   ]
  },
  {
   "cell_type": "markdown",
   "metadata": {},
   "source": [
    "Based on the Histogram and QQ plots the sampling distributions of both samples and the difference appear normal."
   ]
  },
  {
   "cell_type": "markdown",
   "metadata": {},
   "source": [
    "###5. Now, perform the statistical test and report your results."
   ]
  },
  {
   "cell_type": "code",
   "execution_count": 5,
   "metadata": {
    "collapsed": false,
    "scrolled": true
   },
   "outputs": [
    {
     "name": "stdout",
     "output_type": "stream",
     "text": [
      "degrees of freedom: 23\n",
      "tt statistic: 8.02070694411\n",
      "p value: 4.10300058571e-08\n"
     ]
    }
   ],
   "source": [
    "# http://docs.scipy.org/doc/scipy-0.15.1/reference/generated/scipy.stats.ttest_1samp.html#scipy.stats.ttest_1samp\n",
    "degrees_of_freedom = delta.count()-1\n",
    "ttest_stat, ttest_p = ttest_1samp(delta, popmean=0)\n",
    "print('degrees of freedom: '+str(degrees_of_freedom))\n",
    "print('tt statistic: '+str(ttest_stat))\n",
    "print('p value: '+str(ttest_p))"
   ]
  },
  {
   "cell_type": "markdown",
   "metadata": {},
   "source": [
    "####What is your confidence level and your critical statistic value?\n",
    "My confidence level is 99.9% with a critical value of ±3.768.\n",
    "\n",
    "####Do you reject the null hypothesis or fail to reject it?\n",
    "We reject the null hypothesis.\n",
    "\n",
    "####Come to a conclusion in terms of the experiment task.\n",
    "We conclude that the incongruent task takes longer than the congruent task.\n",
    "\n",
    "####Did the results match up with your expectations?\n",
    "These results mached my initial expectations of the data."
   ]
  },
  {
   "cell_type": "markdown",
   "metadata": {},
   "source": [
    "###6. Optional: What do you think is responsible for the effects observed? Can you think of an alternative or similar task that would result in a similar effect? Some research about the problem will be helpful for thinking about these two questions!"
   ]
  },
  {
   "cell_type": "markdown",
   "metadata": {
    "collapsed": true
   },
   "source": [
    "There is a trick we used to play on adults when I was a kid. We would tell them to say toast really quickly a whole bunch of times and then ask them what goes into a toaster. Without fail they would respond \"TOAST!!!\", then a few seconds later recant, saying \"No, wait, I mean bread.\"\n",
    "\n",
    "One possible explanation is that optics and linguistics are processed in different parts of the brain and since we are asking for a linguistic response to a optical question the linguistics centre has to wait .\n",
    "\n",
    "Another possible and less complicated answer is that because the decision centre is receiving data from two places that contradict eachother it takes more time for it to figure out which one is right.\n",
    "\n",
    "ref: https://en.wikipedia.org/wiki/Stroop_effect#Theories"
   ]
  }
 ],
 "metadata": {
  "kernelspec": {
   "display_name": "Python 2",
   "language": "python",
   "name": "python2"
  },
  "language_info": {
   "codemirror_mode": {
    "name": "ipython",
    "version": 2
   },
   "file_extension": ".py",
   "mimetype": "text/x-python",
   "name": "python",
   "nbconvert_exporter": "python",
   "pygments_lexer": "ipython2",
   "version": "2.7.10"
  }
 },
 "nbformat": 4,
 "nbformat_minor": 0
}
